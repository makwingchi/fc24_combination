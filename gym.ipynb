{
 "cells": [
  {
   "cell_type": "code",
   "execution_count": 1,
   "id": "e0ff2153-db74-433d-a6a9-a1c39cfa6ed8",
   "metadata": {
    "execution": {
     "iopub.execute_input": "2023-12-05T09:01:36.784822Z",
     "iopub.status.busy": "2023-12-05T09:01:36.784083Z",
     "iopub.status.idle": "2023-12-05T09:01:39.450761Z",
     "shell.execute_reply": "2023-12-05T09:01:39.449806Z",
     "shell.execute_reply.started": "2023-12-05T09:01:36.784794Z"
    },
    "tags": []
   },
   "outputs": [],
   "source": [
    "import copy\n",
    "\n",
    "import torch\n",
    "import torch.nn as nn\n",
    "from torch.distributions.categorical import Categorical\n",
    "from torch.optim import Adam\n",
    "\n",
    "import numpy as np\n",
    "\n",
    "import gym\n",
    "from gym.spaces import Discrete, Box"
   ]
  },
  {
   "cell_type": "code",
   "execution_count": null,
   "id": "f0d956f1-fd62-4058-a909-ca0b3b3529d6",
   "metadata": {},
   "outputs": [],
   "source": []
  },
  {
   "cell_type": "markdown",
   "id": "930dc3a1-4ac3-44f7-8cf1-8977083b0223",
   "metadata": {},
   "source": [
    "# log_prob tests"
   ]
  },
  {
   "cell_type": "code",
   "execution_count": 27,
   "id": "6f691925-c811-4b48-89ae-24f6216c7bfe",
   "metadata": {
    "execution": {
     "iopub.execute_input": "2023-12-05T08:09:01.552728Z",
     "iopub.status.busy": "2023-12-05T08:09:01.552109Z",
     "iopub.status.idle": "2023-12-05T08:09:01.564639Z",
     "shell.execute_reply": "2023-12-05T08:09:01.563862Z",
     "shell.execute_reply.started": "2023-12-05T08:09:01.552701Z"
    },
    "tags": []
   },
   "outputs": [],
   "source": [
    "m = Categorical(logits=torch.tensor([ 0.3, 0.2, 0.25, 0.25 ]))"
   ]
  },
  {
   "cell_type": "code",
   "execution_count": 43,
   "id": "5d9cbe6c-9b05-45a6-b59a-e3a826355506",
   "metadata": {
    "execution": {
     "iopub.execute_input": "2023-12-05T08:22:03.511608Z",
     "iopub.status.busy": "2023-12-05T08:22:03.511009Z",
     "iopub.status.idle": "2023-12-05T08:22:03.522822Z",
     "shell.execute_reply": "2023-12-05T08:22:03.522062Z",
     "shell.execute_reply.started": "2023-12-05T08:22:03.511581Z"
    },
    "tags": []
   },
   "outputs": [
    {
     "data": {
      "text/plain": [
       "tensor([0.9906, 0.7064, 0.6948, 0.1903, 0.2622])"
      ]
     },
     "execution_count": 43,
     "metadata": {},
     "output_type": "execute_result"
    }
   ],
   "source": [
    "action_logits = torch.rand(5)\n",
    "action_logits"
   ]
  },
  {
   "cell_type": "code",
   "execution_count": 46,
   "id": "d8e904b6-4028-4e7a-844f-e9749720cd43",
   "metadata": {
    "execution": {
     "iopub.execute_input": "2023-12-05T08:22:50.737640Z",
     "iopub.status.busy": "2023-12-05T08:22:50.736998Z",
     "iopub.status.idle": "2023-12-05T08:22:50.745039Z",
     "shell.execute_reply": "2023-12-05T08:22:50.744158Z",
     "shell.execute_reply.started": "2023-12-05T08:22:50.737613Z"
    },
    "tags": []
   },
   "outputs": [
    {
     "data": {
      "text/plain": [
       "tensor([0.2917, 0.2195, 0.2170, 0.1310, 0.1408])"
      ]
     },
     "execution_count": 46,
     "metadata": {},
     "output_type": "execute_result"
    }
   ],
   "source": [
    "action_probs = torch.nn.functional.softmax(action_logits, dim=-1)\n",
    "action_probs"
   ]
  },
  {
   "cell_type": "code",
   "execution_count": 47,
   "id": "eb544386-35dc-4c4a-8cf9-77b7bc4719ab",
   "metadata": {
    "execution": {
     "iopub.execute_input": "2023-12-05T08:23:06.407120Z",
     "iopub.status.busy": "2023-12-05T08:23:06.406534Z",
     "iopub.status.idle": "2023-12-05T08:23:06.411764Z",
     "shell.execute_reply": "2023-12-05T08:23:06.410926Z",
     "shell.execute_reply.started": "2023-12-05T08:23:06.407089Z"
    },
    "tags": []
   },
   "outputs": [],
   "source": [
    "dist = Categorical(action_probs)"
   ]
  },
  {
   "cell_type": "code",
   "execution_count": 49,
   "id": "db68072c-0f5b-49a0-9211-7419fa1ebf97",
   "metadata": {
    "execution": {
     "iopub.execute_input": "2023-12-05T08:23:26.133505Z",
     "iopub.status.busy": "2023-12-05T08:23:26.133168Z",
     "iopub.status.idle": "2023-12-05T08:23:26.139583Z",
     "shell.execute_reply": "2023-12-05T08:23:26.138738Z",
     "shell.execute_reply.started": "2023-12-05T08:23:26.133481Z"
    },
    "tags": []
   },
   "outputs": [
    {
     "data": {
      "text/plain": [
       "tensor(2)"
      ]
     },
     "execution_count": 49,
     "metadata": {},
     "output_type": "execute_result"
    }
   ],
   "source": [
    "action = dist.sample()\n",
    "action"
   ]
  },
  {
   "cell_type": "code",
   "execution_count": 51,
   "id": "ab726b37-6bf7-4666-be0f-a01cc9f5475b",
   "metadata": {
    "execution": {
     "iopub.execute_input": "2023-12-05T08:23:36.770350Z",
     "iopub.status.busy": "2023-12-05T08:23:36.769989Z",
     "iopub.status.idle": "2023-12-05T08:23:36.776696Z",
     "shell.execute_reply": "2023-12-05T08:23:36.775853Z",
     "shell.execute_reply.started": "2023-12-05T08:23:36.770323Z"
    },
    "tags": []
   },
   "outputs": [
    {
     "data": {
      "text/plain": [
       "tensor(-1.5279)"
      ]
     },
     "execution_count": 51,
     "metadata": {},
     "output_type": "execute_result"
    }
   ],
   "source": [
    "dist.log_prob(action)"
   ]
  },
  {
   "cell_type": "code",
   "execution_count": 52,
   "id": "3b979fe4-97eb-43b4-a599-e3e6e41afabf",
   "metadata": {
    "execution": {
     "iopub.execute_input": "2023-12-05T08:23:56.851692Z",
     "iopub.status.busy": "2023-12-05T08:23:56.851314Z",
     "iopub.status.idle": "2023-12-05T08:23:56.859693Z",
     "shell.execute_reply": "2023-12-05T08:23:56.858754Z",
     "shell.execute_reply.started": "2023-12-05T08:23:56.851665Z"
    },
    "tags": []
   },
   "outputs": [
    {
     "data": {
      "text/plain": [
       "tensor(-1.5279)"
      ]
     },
     "execution_count": 52,
     "metadata": {},
     "output_type": "execute_result"
    }
   ],
   "source": [
    "torch.log(action_probs[action])"
   ]
  },
  {
   "cell_type": "code",
   "execution_count": null,
   "id": "cf2c6f41-48c7-4ac2-a0f4-27778e987fb4",
   "metadata": {},
   "outputs": [],
   "source": []
  },
  {
   "cell_type": "markdown",
   "id": "ecd974a7-c39a-4bd8-a7fe-6c40b32e07d5",
   "metadata": {},
   "source": [
    "# REINFORCE Simplified Implementation"
   ]
  },
  {
   "cell_type": "code",
   "execution_count": 2,
   "id": "b88de087-1e25-4b72-b64f-1cc5ecf56b93",
   "metadata": {
    "execution": {
     "iopub.execute_input": "2023-12-05T09:01:42.342280Z",
     "iopub.status.busy": "2023-12-05T09:01:42.341822Z",
     "iopub.status.idle": "2023-12-05T09:01:42.348669Z",
     "shell.execute_reply": "2023-12-05T09:01:42.347532Z",
     "shell.execute_reply.started": "2023-12-05T09:01:42.342254Z"
    },
    "tags": []
   },
   "outputs": [],
   "source": [
    "def mlp(sizes, activation=nn.Tanh, output_activation=nn.Identity):\n",
    "    # Build a feedforward neural network.\n",
    "    layers = []\n",
    "    for j in range(len(sizes)-1):\n",
    "        act = activation if j < len(sizes)-2 else output_activation\n",
    "        layers += [nn.Linear(sizes[j], sizes[j+1]), act()]\n",
    "    return nn.Sequential(*layers)"
   ]
  },
  {
   "cell_type": "code",
   "execution_count": 55,
   "id": "d9b858d8-84ee-42aa-9046-9d1ce81a29f3",
   "metadata": {
    "execution": {
     "iopub.execute_input": "2023-12-05T11:37:02.759290Z",
     "iopub.status.busy": "2023-12-05T11:37:02.758638Z",
     "iopub.status.idle": "2023-12-05T11:37:02.770514Z",
     "shell.execute_reply": "2023-12-05T11:37:02.769567Z",
     "shell.execute_reply.started": "2023-12-05T11:37:02.759226Z"
    },
    "tags": []
   },
   "outputs": [],
   "source": [
    "def reward_to_go(rews):\n",
    "    n = len(rews)\n",
    "    rtgs = np.zeros_like(rews)\n",
    "    for i in reversed(range(n)):\n",
    "        rtgs[i] = rews[i] + (rtgs[i+1] if i+1 < n else 0)\n",
    "    return rtgs"
   ]
  },
  {
   "cell_type": "code",
   "execution_count": 61,
   "id": "73d42537-80e3-4b7f-b405-34cca9151767",
   "metadata": {
    "execution": {
     "iopub.execute_input": "2023-12-05T11:38:58.290111Z",
     "iopub.status.busy": "2023-12-05T11:38:58.289701Z",
     "iopub.status.idle": "2023-12-05T11:38:58.305981Z",
     "shell.execute_reply": "2023-12-05T11:38:58.304975Z",
     "shell.execute_reply.started": "2023-12-05T11:38:58.290087Z"
    },
    "tags": []
   },
   "outputs": [],
   "source": [
    "def train(env_name='CartPole-v0', hidden_sizes=[32], lr=1e-2, epochs=50, batch_size=5000, render=False):\n",
    "    # make environment, check spaces, get obs / act dims\n",
    "    env = gym.make(env_name)\n",
    "    assert isinstance(env.observation_space, Box), \\\n",
    "        \"This example only works for envs with continuous state spaces.\"\n",
    "    assert isinstance(env.action_space, Discrete), \\\n",
    "        \"This example only works for envs with discrete action spaces.\"\n",
    "\n",
    "    obs_dim = env.observation_space.shape[0]\n",
    "    n_acts = env.action_space.n\n",
    "\n",
    "    # make core of policy network\n",
    "    logits_net = mlp(sizes=[obs_dim]+hidden_sizes+[n_acts])\n",
    "\n",
    "    # make function to compute action distribution\n",
    "    def get_policy(obs):\n",
    "        logits = logits_net(obs)\n",
    "        return Categorical(logits=logits)\n",
    "\n",
    "    # make action selection function (outputs int actions, sampled from policy)\n",
    "    def get_action(obs):\n",
    "        return get_policy(obs).sample().item()\n",
    "\n",
    "    # make loss function whose gradient, for the right data, is policy gradient\n",
    "    def compute_loss(obs, act, weights):\n",
    "        logp = get_policy(obs).log_prob(act)\n",
    "        return -(logp * weights).mean()\n",
    "\n",
    "    # make optimizer\n",
    "    optimizer = Adam(logits_net.parameters(), lr=lr)\n",
    "\n",
    "    # for training policy\n",
    "    def train_one_epoch():\n",
    "        # make some empty lists for logging.\n",
    "        batch_obs = []          # for observations\n",
    "        batch_acts = []         # for actions\n",
    "        batch_weights = []      # for R(tau) weighting in policy gradient\n",
    "        batch_rets = []         # for measuring episode returns\n",
    "        batch_lens = []         # for measuring episode lengths\n",
    "\n",
    "        # reset episode-specific variables\n",
    "        obs = env.reset()[0]       # first obs comes from starting distribution\n",
    "        done = False            # signal from environment that episode is over\n",
    "        ep_rews = []            # list for rewards accrued throughout ep\n",
    "\n",
    "        # render first episode of each epoch\n",
    "        finished_rendering_this_epoch = False\n",
    "\n",
    "        # collect experience by acting in the environment with current policy\n",
    "        while True:\n",
    "            # rendering\n",
    "            if (not finished_rendering_this_epoch) and render:\n",
    "                env.render()\n",
    "\n",
    "            # save obs\n",
    "            batch_obs.append(copy.deepcopy(obs))\n",
    "\n",
    "            # act in the environment\n",
    "            act = get_action(torch.as_tensor(obs, dtype=torch.float32))\n",
    "            obs, rew, done, truncated, info = env.step(act)\n",
    "            \n",
    "            # save action, reward\n",
    "            batch_acts.append(act)\n",
    "            ep_rews.append(rew)\n",
    " \n",
    "            if done:\n",
    "                # if episode is over, record info about episode\n",
    "                ep_ret, ep_len = sum(ep_rews), len(ep_rews)\n",
    "                batch_rets.append(ep_ret)\n",
    "                batch_lens.append(ep_len)\n",
    "                # print(ep_rews)\n",
    "\n",
    "                # the weight for each logprob(a|s) is R(tau)\n",
    "                # batch_weights += [ep_ret] * ep_len\n",
    "                batch_weights += list(reward_to_go(ep_rews))\n",
    "\n",
    "                # reset episode-specific variables\n",
    "                obs, done, ep_rews = env.reset()[0], False, []\n",
    "\n",
    "                # won't render again this epoch\n",
    "                finished_rendering_this_epoch = True\n",
    "\n",
    "                # end experience loop if we have enough of it\n",
    "                if len(batch_obs) > batch_size:\n",
    "                    break\n",
    "\n",
    "        # take a single policy gradient update step\n",
    "        optimizer.zero_grad()\n",
    "        batch_loss = compute_loss(obs=torch.as_tensor(batch_obs, dtype=torch.float32),\n",
    "                                  act=torch.as_tensor(batch_acts, dtype=torch.int32),\n",
    "                                  weights=torch.as_tensor(batch_weights, dtype=torch.float32)\n",
    "                                  )\n",
    "        batch_loss.backward()\n",
    "        optimizer.step()\n",
    "        return batch_loss, batch_rets, batch_lens\n",
    "\n",
    "    # training loop\n",
    "    for i in range(epochs):\n",
    "        batch_loss, batch_rets, batch_lens = train_one_epoch()\n",
    "        print('epoch: %3d \\t loss: %.3f \\t return: %.3f \\t ep_len: %.3f'%\n",
    "                (i+1, batch_loss, np.mean(batch_rets), np.mean(batch_lens)))"
   ]
  },
  {
   "cell_type": "code",
   "execution_count": 62,
   "id": "2013a873-7029-4beb-b1ca-f707a401c192",
   "metadata": {
    "execution": {
     "iopub.execute_input": "2023-12-05T11:38:58.397649Z",
     "iopub.status.busy": "2023-12-05T11:38:58.397289Z",
     "iopub.status.idle": "2023-12-05T11:39:58.674313Z",
     "shell.execute_reply": "2023-12-05T11:39:58.673739Z",
     "shell.execute_reply.started": "2023-12-05T11:38:58.397626Z"
    },
    "scrolled": true,
    "tags": []
   },
   "outputs": [
    {
     "name": "stdout",
     "output_type": "stream",
     "text": [
      "epoch:   1 \t loss: 8.966 \t return: 19.909 \t ep_len: 19.909\n",
      "epoch:   2 \t loss: 10.336 \t return: 22.181 \t ep_len: 22.181\n",
      "epoch:   3 \t loss: 11.143 \t return: 24.179 \t ep_len: 24.179\n",
      "epoch:   4 \t loss: 13.012 \t return: 27.582 \t ep_len: 27.582\n",
      "epoch:   5 \t loss: 14.664 \t return: 30.736 \t ep_len: 30.736\n",
      "epoch:   6 \t loss: 16.996 \t return: 36.664 \t ep_len: 36.664\n",
      "epoch:   7 \t loss: 22.514 \t return: 47.245 \t ep_len: 47.245\n",
      "epoch:   8 \t loss: 22.453 \t return: 47.933 \t ep_len: 47.933\n",
      "epoch:   9 \t loss: 22.641 \t return: 55.659 \t ep_len: 55.659\n",
      "epoch:  10 \t loss: 26.092 \t return: 56.444 \t ep_len: 56.444\n",
      "epoch:  11 \t loss: 31.265 \t return: 67.182 \t ep_len: 67.182\n",
      "epoch:  12 \t loss: 28.642 \t return: 68.986 \t ep_len: 68.986\n",
      "epoch:  13 \t loss: 32.890 \t return: 79.873 \t ep_len: 79.873\n",
      "epoch:  14 \t loss: 33.661 \t return: 80.619 \t ep_len: 80.619\n",
      "epoch:  15 \t loss: 44.899 \t return: 119.143 \t ep_len: 119.143\n",
      "epoch:  16 \t loss: 51.157 \t return: 133.395 \t ep_len: 133.395\n",
      "epoch:  17 \t loss: 62.094 \t return: 159.152 \t ep_len: 159.152\n",
      "epoch:  18 \t loss: 84.069 \t return: 193.148 \t ep_len: 193.148\n",
      "epoch:  19 \t loss: 79.762 \t return: 209.625 \t ep_len: 209.625\n",
      "epoch:  20 \t loss: 102.743 \t return: 282.222 \t ep_len: 282.222\n",
      "epoch:  21 \t loss: 110.739 \t return: 314.375 \t ep_len: 314.375\n",
      "epoch:  22 \t loss: 130.890 \t return: 315.562 \t ep_len: 315.562\n",
      "epoch:  23 \t loss: 97.735 \t return: 276.684 \t ep_len: 276.684\n",
      "epoch:  24 \t loss: 97.429 \t return: 314.438 \t ep_len: 314.438\n",
      "epoch:  25 \t loss: 129.864 \t return: 369.429 \t ep_len: 369.429\n",
      "epoch:  26 \t loss: 91.628 \t return: 301.944 \t ep_len: 301.944\n",
      "epoch:  27 \t loss: 155.182 \t return: 476.909 \t ep_len: 476.909\n",
      "epoch:  28 \t loss: 145.343 \t return: 448.667 \t ep_len: 448.667\n",
      "epoch:  29 \t loss: 172.451 \t return: 553.300 \t ep_len: 553.300\n",
      "epoch:  30 \t loss: 267.066 \t return: 850.833 \t ep_len: 850.833\n",
      "epoch:  31 \t loss: 315.650 \t return: 1016.800 \t ep_len: 1016.800\n",
      "epoch:  32 \t loss: 256.531 \t return: 766.286 \t ep_len: 766.286\n",
      "epoch:  33 \t loss: 451.814 \t return: 1317.000 \t ep_len: 1317.000\n",
      "epoch:  34 \t loss: 538.594 \t return: 1034.400 \t ep_len: 1034.400\n",
      "epoch:  35 \t loss: 435.911 \t return: 1058.000 \t ep_len: 1058.000\n",
      "epoch:  36 \t loss: 216.348 \t return: 605.000 \t ep_len: 605.000\n",
      "epoch:  37 \t loss: 343.693 \t return: 1003.800 \t ep_len: 1003.800\n",
      "epoch:  38 \t loss: 308.647 \t return: 665.375 \t ep_len: 665.375\n",
      "epoch:  39 \t loss: 318.247 \t return: 745.714 \t ep_len: 745.714\n",
      "epoch:  40 \t loss: 389.070 \t return: 943.667 \t ep_len: 943.667\n",
      "epoch:  41 \t loss: 413.868 \t return: 812.714 \t ep_len: 812.714\n",
      "epoch:  42 \t loss: 250.231 \t return: 715.143 \t ep_len: 715.143\n",
      "epoch:  43 \t loss: 321.855 \t return: 752.000 \t ep_len: 752.000\n",
      "epoch:  44 \t loss: 605.193 \t return: 1066.400 \t ep_len: 1066.400\n",
      "epoch:  45 \t loss: 766.591 \t return: 1770.800 \t ep_len: 1770.800\n",
      "epoch:  46 \t loss: 380.055 \t return: 1010.400 \t ep_len: 1010.400\n",
      "epoch:  47 \t loss: 658.564 \t return: 1695.750 \t ep_len: 1695.750\n",
      "epoch:  48 \t loss: 714.263 \t return: 2556.500 \t ep_len: 2556.500\n",
      "epoch:  49 \t loss: 409.630 \t return: 1021.200 \t ep_len: 1021.200\n",
      "epoch:  50 \t loss: 955.312 \t return: 2462.333 \t ep_len: 2462.333\n"
     ]
    }
   ],
   "source": [
    "train()"
   ]
  },
  {
   "cell_type": "code",
   "execution_count": null,
   "id": "af7adcd9-d034-45d1-a2e7-822218ebeb1a",
   "metadata": {},
   "outputs": [],
   "source": []
  },
  {
   "cell_type": "markdown",
   "id": "72d71d45-0421-404f-88f5-a7e51576cecf",
   "metadata": {},
   "source": [
    "# Spinningup Exercise 1_1"
   ]
  },
  {
   "cell_type": "code",
   "execution_count": 83,
   "id": "764d135d-eea5-4d74-b397-df27880eefd1",
   "metadata": {
    "execution": {
     "iopub.execute_input": "2023-12-06T07:06:53.816463Z",
     "iopub.status.busy": "2023-12-06T07:06:53.816084Z",
     "iopub.status.idle": "2023-12-06T07:06:53.821319Z",
     "shell.execute_reply": "2023-12-06T07:06:53.820424Z",
     "shell.execute_reply.started": "2023-12-06T07:06:53.816436Z"
    },
    "tags": []
   },
   "outputs": [],
   "source": [
    "def soln_gaussian_likelihood(x, mu, log_std):\n",
    "    EPS=1e-8\n",
    "    \n",
    "    pre_sum = -0.5 * (((x-mu)/(torch.exp(log_std)+EPS))**2 + 2*log_std + np.log(2*np.pi))\n",
    "    return pre_sum.sum(axis=-1)"
   ]
  },
  {
   "cell_type": "code",
   "execution_count": 76,
   "id": "fd8bf59b-408d-4060-a51f-c57382495e53",
   "metadata": {
    "execution": {
     "iopub.execute_input": "2023-12-06T07:03:11.809782Z",
     "iopub.status.busy": "2023-12-06T07:03:11.809165Z",
     "iopub.status.idle": "2023-12-06T07:03:11.814953Z",
     "shell.execute_reply": "2023-12-06T07:03:11.814031Z",
     "shell.execute_reply.started": "2023-12-06T07:03:11.809757Z"
    },
    "tags": []
   },
   "outputs": [],
   "source": [
    "def gaussian_likelihood(x, mu, log_std):\n",
    "    \"\"\"\n",
    "    Args:\n",
    "        x: Tensor with shape [batch, dim]\n",
    "        mu: Tensor with shape [batch, dim]\n",
    "        log_std: Tensor with shape [batch, dim] or [dim]\n",
    "\n",
    "    Returns:\n",
    "        Tensor with shape [batch]\n",
    "    \"\"\"\n",
    "    dim = x.shape[1]\n",
    "    \n",
    "    first_term = torch.sum(torch.square(x - mu) / torch.square(torch.exp(log_std)) + 2 * log_std, dim=-1)\n",
    "    second_term = dim * torch.log(torch.as_tensor([torch.pi * 2]))\n",
    "    \n",
    "    return -0.5 * (first_term + second_term)"
   ]
  },
  {
   "cell_type": "code",
   "execution_count": 84,
   "id": "7746f542-3dab-4f54-a6f5-235537535966",
   "metadata": {
    "execution": {
     "iopub.execute_input": "2023-12-06T07:06:55.842148Z",
     "iopub.status.busy": "2023-12-06T07:06:55.841672Z",
     "iopub.status.idle": "2023-12-06T07:06:55.855087Z",
     "shell.execute_reply": "2023-12-06T07:06:55.854124Z",
     "shell.execute_reply.started": "2023-12-06T07:06:55.842125Z"
    },
    "tags": []
   },
   "outputs": [],
   "source": [
    "batch_size = 32\n",
    "dim = 10\n",
    "\n",
    "x = torch.rand(batch_size, dim)\n",
    "mu = torch.rand(batch_size, dim)\n",
    "log_std = torch.rand(dim)\n",
    "\n",
    "your_gaussian_likelihood = gaussian_likelihood(x, mu, log_std)\n",
    "true_gaussian_likelihood = soln_gaussian_likelihood(x, mu, log_std)\n",
    "\n",
    "your_result = your_gaussian_likelihood.detach().numpy()\n",
    "true_result = true_gaussian_likelihood.detach().numpy()\n",
    "\n",
    "correct = np.allclose(your_result, true_result)"
   ]
  },
  {
   "cell_type": "code",
   "execution_count": 85,
   "id": "492c5879-21e9-4cf7-a48a-75975a0fd7f8",
   "metadata": {
    "execution": {
     "iopub.execute_input": "2023-12-06T07:06:58.572732Z",
     "iopub.status.busy": "2023-12-06T07:06:58.572244Z",
     "iopub.status.idle": "2023-12-06T07:06:58.578433Z",
     "shell.execute_reply": "2023-12-06T07:06:58.577299Z",
     "shell.execute_reply.started": "2023-12-06T07:06:58.572707Z"
    },
    "tags": []
   },
   "outputs": [
    {
     "data": {
      "text/plain": [
       "True"
      ]
     },
     "execution_count": 85,
     "metadata": {},
     "output_type": "execute_result"
    }
   ],
   "source": [
    "correct"
   ]
  },
  {
   "cell_type": "code",
   "execution_count": null,
   "id": "bc76d487-b5e3-409a-9ca1-e8adfb238a47",
   "metadata": {},
   "outputs": [],
   "source": []
  },
  {
   "cell_type": "code",
   "execution_count": null,
   "id": "09db1e07-4716-4c2b-ae65-a4536a96ebc5",
   "metadata": {},
   "outputs": [],
   "source": []
  },
  {
   "cell_type": "markdown",
   "id": "bfd2cfdc-c7f6-4eba-9792-64774ddb4123",
   "metadata": {},
   "source": [
    "# SARSA (Tabular)"
   ]
  },
  {
   "cell_type": "code",
   "execution_count": 167,
   "id": "3a551d6c-298a-4f3d-a2bb-1a9f50e176d4",
   "metadata": {
    "execution": {
     "iopub.execute_input": "2023-12-11T11:44:53.049399Z",
     "iopub.status.busy": "2023-12-11T11:44:53.048621Z",
     "iopub.status.idle": "2023-12-11T11:44:53.052996Z",
     "shell.execute_reply": "2023-12-11T11:44:53.052072Z",
     "shell.execute_reply.started": "2023-12-11T11:44:53.049373Z"
    },
    "tags": []
   },
   "outputs": [],
   "source": [
    "import numpy as np\n",
    "from tqdm import tqdm"
   ]
  },
  {
   "cell_type": "code",
   "execution_count": 196,
   "id": "66faca71-15b2-423d-87a7-4bc34861da48",
   "metadata": {
    "execution": {
     "iopub.execute_input": "2023-12-12T03:17:54.873994Z",
     "iopub.status.busy": "2023-12-12T03:17:54.873371Z",
     "iopub.status.idle": "2023-12-12T03:17:54.883620Z",
     "shell.execute_reply": "2023-12-12T03:17:54.882795Z",
     "shell.execute_reply.started": "2023-12-12T03:17:54.873966Z"
    },
    "tags": []
   },
   "outputs": [],
   "source": [
    "class CliffWalkingEnv:\n",
    "    def __init__(self, ncol, nrow):\n",
    "        self.nrow = nrow\n",
    "        self.ncol = ncol\n",
    "        self.x = 0  # 记录当前智能体位置的横坐标\n",
    "        self.y = self.nrow - 1  # 记录当前智能体位置的纵坐标\n",
    "\n",
    "    def step(self, action):  # 外部调用这个函数来改变当前位置\n",
    "        # 4种动作, change[0]:上, change[1]:下, change[2]:左, change[3]:右。坐标系原点(0,0)\n",
    "        # 定义在左上角\n",
    "        change = [[0, -1], [0, 1], [-1, 0], [1, 0]]\n",
    "        self.x = min(self.ncol - 1, max(0, self.x + change[action][0]))\n",
    "        self.y = min(self.nrow - 1, max(0, self.y + change[action][1]))\n",
    "        next_state = self.y * self.ncol + self.x\n",
    "        reward = -1\n",
    "        done = False\n",
    "        if self.y == self.nrow - 1 and self.x > 0:  # 下一个位置在悬崖或者目标\n",
    "            done = True\n",
    "            if self.x != self.ncol - 1:\n",
    "                reward = -100\n",
    "        return next_state, reward, done\n",
    "\n",
    "    def reset(self):  # 回归初始状态,坐标轴原点在左上角\n",
    "        self.x = 0\n",
    "        self.y = self.nrow - 1\n",
    "        return self.y * self.ncol + self.x"
   ]
  },
  {
   "cell_type": "code",
   "execution_count": 197,
   "id": "554c30f0-f1c9-4015-89fb-16eb860cdd00",
   "metadata": {
    "execution": {
     "iopub.execute_input": "2023-12-12T03:17:56.482551Z",
     "iopub.status.busy": "2023-12-12T03:17:56.482220Z",
     "iopub.status.idle": "2023-12-12T03:17:56.491037Z",
     "shell.execute_reply": "2023-12-12T03:17:56.490208Z",
     "shell.execute_reply.started": "2023-12-12T03:17:56.482529Z"
    },
    "tags": []
   },
   "outputs": [],
   "source": [
    "class Sarsa:\n",
    "    def __init__(self, ncol, nrow, epsilon, alpha, gamma, n_action=4):\n",
    "        self.Q_table = np.zeros([nrow * ncol, n_action])  # 初始化Q(s,a)表格\n",
    "        self.n_action = n_action  # 动作个数\n",
    "        self.alpha = alpha  # 学习率\n",
    "        self.gamma = gamma  # 折扣因子\n",
    "        self.epsilon = epsilon  # epsilon-贪婪策略中的参数\n",
    "    \n",
    "    def take_action(self, state):\n",
    "        if np.random.rand() < self.epsilon:\n",
    "            return np.random.randint(0, self.n_action)\n",
    "        \n",
    "        return np.argmax(self.Q_table[state])\n",
    "    \n",
    "    def best_action(self, state):\n",
    "        Q_max = np.max(self.Q_table[state])\n",
    "        a = [0 for _ in range(self.n_action)]\n",
    "        for i in range(self.n_action):  # 若两个动作的价值一样,都会记录下来\n",
    "            if self.Q_table[state, i] == Q_max:\n",
    "                a[i] = 1\n",
    "        return a\n",
    "    \n",
    "    def update(self, s0, a0, r, s1, a1):\n",
    "        td_err = r + self.gamma * self.Q_table[s1, a1] - self.Q_table[s0, a0]\n",
    "        self.Q_table[s0, a0] += self.alpha * td_err"
   ]
  },
  {
   "cell_type": "code",
   "execution_count": 198,
   "id": "b28751b1-296c-431d-972d-dd3e56202662",
   "metadata": {
    "execution": {
     "iopub.execute_input": "2023-12-12T03:17:57.303446Z",
     "iopub.status.busy": "2023-12-12T03:17:57.303022Z",
     "iopub.status.idle": "2023-12-12T03:17:57.308195Z",
     "shell.execute_reply": "2023-12-12T03:17:57.307392Z",
     "shell.execute_reply.started": "2023-12-12T03:17:57.303419Z"
    },
    "tags": []
   },
   "outputs": [],
   "source": [
    "ncol = 12\n",
    "nrow = 4\n",
    "env = CliffWalkingEnv(ncol, nrow)\n",
    "np.random.seed(0)\n",
    "epsilon = 0.1\n",
    "alpha = 0.1\n",
    "gamma = 0.9\n",
    "agent = Sarsa(ncol, nrow, epsilon, alpha, gamma)\n",
    "num_episodes = 500  # 智能体在环境中运行的序列的数量"
   ]
  },
  {
   "cell_type": "code",
   "execution_count": 199,
   "id": "22037643-44fb-46bc-896c-dfa8388406ce",
   "metadata": {
    "execution": {
     "iopub.execute_input": "2023-12-12T03:17:57.885795Z",
     "iopub.status.busy": "2023-12-12T03:17:57.885446Z",
     "iopub.status.idle": "2023-12-12T03:17:58.031207Z",
     "shell.execute_reply": "2023-12-12T03:17:58.030588Z",
     "shell.execute_reply.started": "2023-12-12T03:17:57.885771Z"
    },
    "tags": []
   },
   "outputs": [],
   "source": [
    "return_list = []\n",
    "\n",
    "for i in range(num_episodes):\n",
    "    state = env.reset()\n",
    "    episode_return = 0\n",
    "    done = False\n",
    "    action = agent.take_action(state)\n",
    "    \n",
    "    while not done:\n",
    "        next_state, reward, done = env.step(action)\n",
    "        next_action = agent.take_action(next_state)\n",
    "        episode_return += reward\n",
    "        agent.update(state, action, reward, next_state, next_action)\n",
    "        \n",
    "        state = next_state\n",
    "        action = next_action\n",
    "    \n",
    "    return_list.append(episode_return)"
   ]
  },
  {
   "cell_type": "code",
   "execution_count": null,
   "id": "48924a5f-94cc-4e02-8d21-92588ba28c48",
   "metadata": {},
   "outputs": [],
   "source": []
  },
  {
   "cell_type": "markdown",
   "id": "981f6276-f0e2-42e2-a075-cedd4c345150",
   "metadata": {},
   "source": [
    "# Multi-step SARSA"
   ]
  },
  {
   "cell_type": "code",
   "execution_count": 216,
   "id": "fb9827a3-c1cc-41af-a0b5-d96336beb7a9",
   "metadata": {
    "execution": {
     "iopub.execute_input": "2023-12-12T03:21:15.459496Z",
     "iopub.status.busy": "2023-12-12T03:21:15.458971Z",
     "iopub.status.idle": "2023-12-12T03:21:15.476545Z",
     "shell.execute_reply": "2023-12-12T03:21:15.475715Z",
     "shell.execute_reply.started": "2023-12-12T03:21:15.459470Z"
    },
    "tags": []
   },
   "outputs": [],
   "source": [
    "class Nstep_Sarsa:\n",
    "    def __init__(self, n, ncol, nrow, epsilon, alpha, gamma, n_action=4):\n",
    "        self.Q_table = np.zeros([nrow * ncol, n_action])  # 初始化Q(s,a)表格\n",
    "        self.n_action = n_action  # 动作个数\n",
    "        self.alpha = alpha  # 学习率\n",
    "        self.gamma = gamma  # 折扣因子\n",
    "        self.epsilon = epsilon  # epsilon-贪婪策略中的参数\n",
    "        self.n = n\n",
    "        \n",
    "        self.state_list = []\n",
    "        self.action_list = []\n",
    "        self.reward_list = []\n",
    "    \n",
    "    def take_action(self, state):\n",
    "        if np.random.rand() < self.epsilon:\n",
    "            return np.random.randint(0, self.n_action)\n",
    "        \n",
    "        return np.argmax(self.Q_table[state])\n",
    "    \n",
    "    def best_action(self, state):\n",
    "        Q_max = np.max(self.Q_table[state])\n",
    "        a = [0 for _ in range(self.n_action)]\n",
    "        for i in range(self.n_action):  # 若两个动作的价值一样,都会记录下来\n",
    "            if self.Q_table[state, i] == Q_max:\n",
    "                a[i] = 1\n",
    "        return a\n",
    "    \n",
    "    def update(self, s0, a0, r, s1, a1, done):\n",
    "        self.state_list.append(s0)\n",
    "        self.action_list.append(a0)\n",
    "        self.reward_list.append(r)\n",
    "        \n",
    "        if len(self.state_list) == self.n:\n",
    "            G = self.Q_table[s1, a1]\n",
    "            \n",
    "            for i in reversed(range(self.n)):\n",
    "                G = self.gamma * G + self.reward_list[i]\n",
    "                \n",
    "                if done and i > 0:\n",
    "                    s = self.state_list[i]\n",
    "                    a = self.action_list[i]\n",
    "                    self.Q_table[s, a] += self.alpha * (G - self.Q_table[s, a])\n",
    "            \n",
    "            s = self.state_list.pop(0)\n",
    "            a = self.action_list.pop(0)\n",
    "            self.reward_list.pop(0)\n",
    "            self.Q_table[s, a] += self.alpha * (G - self.Q_table[s, a])\n",
    "        \n",
    "        if done:\n",
    "            self.state_list = []\n",
    "            self.action_list = []\n",
    "            self.reward_list = []"
   ]
  },
  {
   "cell_type": "code",
   "execution_count": 217,
   "id": "8b970455-ec8c-43ff-9f47-59103d6b8709",
   "metadata": {
    "execution": {
     "iopub.execute_input": "2023-12-12T03:21:15.672482Z",
     "iopub.status.busy": "2023-12-12T03:21:15.672128Z",
     "iopub.status.idle": "2023-12-12T03:21:15.677438Z",
     "shell.execute_reply": "2023-12-12T03:21:15.676523Z",
     "shell.execute_reply.started": "2023-12-12T03:21:15.672456Z"
    },
    "tags": []
   },
   "outputs": [],
   "source": [
    "ncol = 12\n",
    "nrow = 4\n",
    "n_step = 5\n",
    "env = CliffWalkingEnv(ncol, nrow)\n",
    "np.random.seed(0)\n",
    "epsilon = 0.1\n",
    "alpha = 0.1\n",
    "gamma = 0.9\n",
    "agent = Nstep_Sarsa(n_step, ncol, nrow, epsilon, alpha, gamma)\n",
    "num_episodes = 500  # 智能体在环境中运行的序列的数量"
   ]
  },
  {
   "cell_type": "code",
   "execution_count": 218,
   "id": "eeee26f9-486d-4932-972d-5f89b82a53f6",
   "metadata": {
    "execution": {
     "iopub.execute_input": "2023-12-12T03:21:15.899419Z",
     "iopub.status.busy": "2023-12-12T03:21:15.899087Z",
     "iopub.status.idle": "2023-12-12T03:21:16.042871Z",
     "shell.execute_reply": "2023-12-12T03:21:16.042060Z",
     "shell.execute_reply.started": "2023-12-12T03:21:15.899397Z"
    },
    "tags": []
   },
   "outputs": [],
   "source": [
    "return_list = []\n",
    "\n",
    "for i in range(num_episodes):\n",
    "    state = env.reset()\n",
    "    episode_return = 0\n",
    "    done = False\n",
    "    action = agent.take_action(state)\n",
    "    \n",
    "    while not done:\n",
    "        next_state, reward, done = env.step(action)\n",
    "        next_action = agent.take_action(next_state)\n",
    "        episode_return += reward\n",
    "        agent.update(state, action, reward, next_state, next_action, done)\n",
    "        \n",
    "        state = next_state\n",
    "        action = next_action\n",
    "    \n",
    "    return_list.append(episode_return)"
   ]
  },
  {
   "cell_type": "code",
   "execution_count": null,
   "id": "409bd713-b73b-4d7e-97a7-7bf676a0290b",
   "metadata": {},
   "outputs": [],
   "source": []
  },
  {
   "cell_type": "markdown",
   "id": "ffd3f333-4082-4e16-9d50-b7b05f5452d2",
   "metadata": {},
   "source": [
    "# Q-Learning"
   ]
  },
  {
   "cell_type": "code",
   "execution_count": 224,
   "id": "23b58322-c875-49c9-b592-bbc55493bdcf",
   "metadata": {
    "execution": {
     "iopub.execute_input": "2023-12-12T03:47:02.740215Z",
     "iopub.status.busy": "2023-12-12T03:47:02.739625Z",
     "iopub.status.idle": "2023-12-12T03:47:02.748266Z",
     "shell.execute_reply": "2023-12-12T03:47:02.747394Z",
     "shell.execute_reply.started": "2023-12-12T03:47:02.740190Z"
    },
    "tags": []
   },
   "outputs": [],
   "source": [
    "class Q_Learning:\n",
    "    def __init__(self, ncol, nrow, epsilon, alpha, gamma, n_action=4):\n",
    "        self.Q_table = np.zeros([nrow * ncol, n_action])  # 初始化Q(s,a)表格\n",
    "        self.n_action = n_action  # 动作个数\n",
    "        self.alpha = alpha  # 学习率\n",
    "        self.gamma = gamma  # 折扣因子\n",
    "        self.epsilon = epsilon  # epsilon-贪婪策略中的参数\n",
    "    \n",
    "    def take_action(self, state):\n",
    "        if np.random.rand() < self.epsilon:\n",
    "            return np.random.randint(0, self.n_action)\n",
    "        \n",
    "        return np.argmax(self.Q_table[state])\n",
    "    \n",
    "    def best_action(self, state):\n",
    "        Q_max = np.max(self.Q_table[state])\n",
    "        a = [0 for _ in range(self.n_action)]\n",
    "        for i in range(self.n_action):  # 若两个动作的价值一样,都会记录下来\n",
    "            if self.Q_table[state, i] == Q_max:\n",
    "                a[i] = 1\n",
    "        return a\n",
    "    \n",
    "    def update(self, s0, a0, r, s1):\n",
    "        td_err = r + self.gamma * np.max(self.Q_table[s1]) - self.Q_table[s0, a0]\n",
    "        self.Q_table[s0, a0] += self.alpha * td_err"
   ]
  },
  {
   "cell_type": "code",
   "execution_count": 229,
   "id": "0e62773c-7ce6-4448-a6a2-b98c8aa1e05b",
   "metadata": {
    "execution": {
     "iopub.execute_input": "2023-12-12T03:48:10.581437Z",
     "iopub.status.busy": "2023-12-12T03:48:10.580744Z",
     "iopub.status.idle": "2023-12-12T03:48:10.586365Z",
     "shell.execute_reply": "2023-12-12T03:48:10.585352Z",
     "shell.execute_reply.started": "2023-12-12T03:48:10.581409Z"
    },
    "tags": []
   },
   "outputs": [],
   "source": [
    "ncol = 12\n",
    "nrow = 4\n",
    "n_step = 5\n",
    "env = CliffWalkingEnv(ncol, nrow)\n",
    "np.random.seed(0)\n",
    "epsilon = 0.1\n",
    "alpha = 0.1\n",
    "gamma = 0.9\n",
    "agent = Q_Learning(ncol, nrow, epsilon, alpha, gamma)\n",
    "num_episodes = 500  # 智能体在环境中运行的序列的数量"
   ]
  },
  {
   "cell_type": "code",
   "execution_count": 230,
   "id": "631403ef-ad9e-4c1d-9536-fcbf9aa5885d",
   "metadata": {
    "execution": {
     "iopub.execute_input": "2023-12-12T03:48:22.932603Z",
     "iopub.status.busy": "2023-12-12T03:48:22.932226Z",
     "iopub.status.idle": "2023-12-12T03:48:23.172617Z",
     "shell.execute_reply": "2023-12-12T03:48:23.171205Z",
     "shell.execute_reply.started": "2023-12-12T03:48:22.932577Z"
    },
    "tags": []
   },
   "outputs": [],
   "source": [
    "return_list = []\n",
    "\n",
    "for i in range(num_episodes):\n",
    "    state = env.reset()\n",
    "    episode_return = 0\n",
    "    done = False\n",
    "    action = agent.take_action(state)\n",
    "    \n",
    "    while not done:\n",
    "        next_state, reward, done = env.step(action)\n",
    "        next_action = agent.take_action(next_state)\n",
    "        episode_return += reward\n",
    "        agent.update(state, action, reward, next_state)\n",
    "        \n",
    "        state = next_state\n",
    "        action = next_action\n",
    "    \n",
    "    return_list.append(episode_return)"
   ]
  },
  {
   "cell_type": "code",
   "execution_count": null,
   "id": "f5500a52-b178-4376-90bf-c278bbcf54bb",
   "metadata": {},
   "outputs": [],
   "source": []
  },
  {
   "cell_type": "markdown",
   "id": "7163b120-ba6e-429d-9d48-3cb3614fcac8",
   "metadata": {},
   "source": [
    "# DQN"
   ]
  },
  {
   "cell_type": "code",
   "execution_count": 1,
   "id": "5fae4bfa-158f-4a1a-ac07-cc025aa24a84",
   "metadata": {
    "execution": {
     "iopub.execute_input": "2024-01-08T06:21:28.112096Z",
     "iopub.status.busy": "2024-01-08T06:21:28.107594Z",
     "iopub.status.idle": "2024-01-08T06:21:37.494682Z",
     "shell.execute_reply": "2024-01-08T06:21:37.493888Z",
     "shell.execute_reply.started": "2024-01-08T06:21:28.112001Z"
    },
    "tags": []
   },
   "outputs": [],
   "source": [
    "import random\n",
    "import gym\n",
    "import numpy as np\n",
    "import collections\n",
    "from tqdm import tqdm\n",
    "import torch\n",
    "import torch.nn.functional as F\n",
    "import matplotlib.pyplot as plt\n",
    "import rl_utils"
   ]
  },
  {
   "cell_type": "code",
   "execution_count": 2,
   "id": "41c54f5d-4b1b-4650-911a-2ef5951cb797",
   "metadata": {
    "execution": {
     "iopub.execute_input": "2024-01-08T06:21:38.474925Z",
     "iopub.status.busy": "2024-01-08T06:21:38.474507Z",
     "iopub.status.idle": "2024-01-08T06:21:38.482284Z",
     "shell.execute_reply": "2024-01-08T06:21:38.481242Z",
     "shell.execute_reply.started": "2024-01-08T06:21:38.474899Z"
    },
    "tags": []
   },
   "outputs": [],
   "source": [
    "class ReplayBuffer:\n",
    "    ''' 经验回放池 '''\n",
    "    def __init__(self, capacity):\n",
    "        self.buffer = collections.deque(maxlen=capacity)  # 队列,先进先出\n",
    "\n",
    "    def add(self, state, action, reward, next_state, done):  # 将数据加入buffer\n",
    "        self.buffer.append((state, action, reward, next_state, done))\n",
    "\n",
    "    def sample(self, batch_size):  # 从buffer中采样数据,数量为batch_size\n",
    "        transitions = random.sample(self.buffer, batch_size)\n",
    "        state, action, reward, next_state, done = zip(*transitions)\n",
    "        return np.array(state), action, reward, np.array(next_state), done\n",
    "\n",
    "    def size(self):  # 目前buffer中数据的数量\n",
    "        return len(self.buffer)"
   ]
  },
  {
   "cell_type": "code",
   "execution_count": 3,
   "id": "8df11e75-b965-47b3-8751-855fd80cad61",
   "metadata": {
    "execution": {
     "iopub.execute_input": "2024-01-08T06:22:31.842462Z",
     "iopub.status.busy": "2024-01-08T06:22:31.842114Z",
     "iopub.status.idle": "2024-01-08T06:22:31.848948Z",
     "shell.execute_reply": "2024-01-08T06:22:31.847087Z",
     "shell.execute_reply.started": "2024-01-08T06:22:31.842438Z"
    },
    "tags": []
   },
   "outputs": [],
   "source": [
    "class Qnet(torch.nn.Module):\n",
    "    ''' 只有一层隐藏层的Q网络 '''\n",
    "    def __init__(self, state_dim, hidden_dim, action_dim):\n",
    "        super(Qnet, self).__init__()\n",
    "        self.fc1 = torch.nn.Linear(state_dim, hidden_dim)\n",
    "        self.fc2 = torch.nn.Linear(hidden_dim, action_dim)\n",
    "\n",
    "    def forward(self, x):\n",
    "        x = F.relu(self.fc1(x))  # 隐藏层使用ReLU激活函数\n",
    "        return self.fc2(x)"
   ]
  },
  {
   "cell_type": "code",
   "execution_count": 19,
   "id": "9b76508c-e9e3-4141-a4b2-32b66c6b3be6",
   "metadata": {
    "execution": {
     "iopub.execute_input": "2024-01-08T07:11:48.279506Z",
     "iopub.status.busy": "2024-01-08T07:11:48.279096Z",
     "iopub.status.idle": "2024-01-08T07:11:48.309915Z",
     "shell.execute_reply": "2024-01-08T07:11:48.308409Z",
     "shell.execute_reply.started": "2024-01-08T07:11:48.279479Z"
    },
    "tags": []
   },
   "outputs": [],
   "source": [
    "class DQN:\n",
    "    ''' DQN算法 '''\n",
    "    def __init__(self, state_dim, hidden_dim, action_dim, learning_rate, gamma,\n",
    "                 epsilon, target_update, device):\n",
    "        self.action_dim = action_dim\n",
    "        self.q_net = Qnet(state_dim, hidden_dim,\n",
    "                          self.action_dim).to(device)  # Q网络\n",
    "        # 目标网络\n",
    "        self.target_q_net = Qnet(state_dim, hidden_dim,\n",
    "                                 self.action_dim).to(device)\n",
    "        # 使用Adam优化器\n",
    "        self.optimizer = torch.optim.Adam(self.q_net.parameters(),\n",
    "                                          lr=learning_rate)\n",
    "        self.gamma = gamma  # 折扣因子\n",
    "        self.epsilon = epsilon  # epsilon-贪婪策略\n",
    "        self.target_update = target_update  # 目标网络更新频率\n",
    "        self.count = 0  # 计数器,记录更新次数\n",
    "        self.device = device\n",
    "\n",
    "    def take_action(self, state):  # epsilon-贪婪策略采取动作\n",
    "        if np.random.random() < self.epsilon:\n",
    "            action = np.random.randint(self.action_dim)\n",
    "        else:\n",
    "            state = torch.tensor([state], dtype=torch.float).to(self.device)\n",
    "            action = self.q_net(state).argmax().item()\n",
    "        return action\n",
    "\n",
    "    def update(self, transition_dict):\n",
    "        states = torch.tensor(transition_dict['states'],\n",
    "                              dtype=torch.float).to(self.device)\n",
    "        actions = torch.tensor(transition_dict['actions']).view(-1, 1).to(\n",
    "            self.device)\n",
    "        rewards = torch.tensor(transition_dict['rewards'],\n",
    "                               dtype=torch.float).view(-1, 1).to(self.device)\n",
    "        next_states = torch.tensor(transition_dict['next_states'],\n",
    "                                   dtype=torch.float).to(self.device)\n",
    "        dones = torch.tensor(transition_dict['dones'],\n",
    "                             dtype=torch.float).view(-1, 1).to(self.device)\n",
    "\n",
    "        q_values = self.q_net(states).gather(1, actions)  # Q值\n",
    "        # 下个状态的最大Q值\n",
    "        max_next_q_values = self.target_q_net(next_states).max(1)[0].view(\n",
    "            -1, 1)\n",
    "        q_targets = rewards + self.gamma * max_next_q_values * (1 - dones\n",
    "                                                                )  # TD误差目标\n",
    "        dqn_loss = torch.mean(F.mse_loss(q_values, q_targets))  # 均方误差损失函数\n",
    "        self.optimizer.zero_grad()  # PyTorch中默认梯度会累积,这里需要显式将梯度置为0\n",
    "        dqn_loss.backward()  # 反向传播更新参数\n",
    "        self.optimizer.step()\n",
    "\n",
    "        if self.count % self.target_update == 0:\n",
    "            self.target_q_net.load_state_dict(\n",
    "                self.q_net.state_dict())  # 更新目标网络\n",
    "        self.count += 1"
   ]
  },
  {
   "cell_type": "code",
   "execution_count": null,
   "id": "4b633c94-2790-493b-9a79-11f6295d19b4",
   "metadata": {},
   "outputs": [],
   "source": []
  },
  {
   "cell_type": "code",
   "execution_count": 50,
   "id": "b95d724c-bc7e-4728-bce6-b6a7d6b4e254",
   "metadata": {
    "execution": {
     "iopub.execute_input": "2024-01-08T08:02:42.268159Z",
     "iopub.status.busy": "2024-01-08T08:02:42.267789Z",
     "iopub.status.idle": "2024-01-08T08:02:42.278150Z",
     "shell.execute_reply": "2024-01-08T08:02:42.277355Z",
     "shell.execute_reply.started": "2024-01-08T08:02:42.268135Z"
    },
    "tags": []
   },
   "outputs": [],
   "source": [
    "lr = 2e-3\n",
    "num_episodes = 500\n",
    "hidden_dim = 128\n",
    "gamma = 0.98\n",
    "epsilon = 0.01\n",
    "target_update = 10\n",
    "buffer_size = 10000\n",
    "minimal_size = 500\n",
    "batch_size = 64\n",
    "device = torch.device(\"cuda\") if torch.cuda.is_available() else torch.device(\"cpu\")\n",
    "\n",
    "env_name = 'CartPole-v1'\n",
    "env = gym.make(env_name)\n",
    "random.seed(0)\n",
    "np.random.seed(0)\n",
    "# env.seed(0)\n",
    "torch.manual_seed(0)\n",
    "replay_buffer = ReplayBuffer(buffer_size)\n",
    "state_dim = env.observation_space.shape[0]\n",
    "action_dim = env.action_space.n\n",
    "agent = DQN(state_dim, hidden_dim, action_dim, lr, gamma, epsilon, target_update, device)"
   ]
  },
  {
   "cell_type": "code",
   "execution_count": 56,
   "id": "b2accef4-28fb-47fa-ab7d-afbd9ba5c8c0",
   "metadata": {
    "execution": {
     "iopub.execute_input": "2024-01-08T08:11:21.910987Z",
     "iopub.status.busy": "2024-01-08T08:11:21.910373Z",
     "iopub.status.idle": "2024-01-08T08:24:11.066211Z",
     "shell.execute_reply": "2024-01-08T08:24:11.065275Z",
     "shell.execute_reply.started": "2024-01-08T08:11:21.910961Z"
    },
    "tags": []
   },
   "outputs": [
    {
     "name": "stderr",
     "output_type": "stream",
     "text": [
      "Iteration 0: 100%|██████████████████████████████████████████████████████████████████████████████████████████████████████████████████████████████████████| 50/50 [01:09<00:00,  1.39s/it, episode=50, return=569.200]\n",
      "Iteration 1: 100%|████████████████████████████████████████████████████████████████████████████████████████████████████████████████████████████████████| 50/50 [02:26<00:00,  2.93s/it, episode=100, return=2310.700]\n",
      "Iteration 2: 100%|████████████████████████████████████████████████████████████████████████████████████████████████████████████████████████████████████| 50/50 [02:12<00:00,  2.65s/it, episode=150, return=1643.200]\n",
      "Iteration 3: 100%|████████████████████████████████████████████████████████████████████████████████████████████████████████████████████████████████████| 50/50 [01:24<00:00,  1.69s/it, episode=200, return=1832.900]\n",
      "Iteration 4: 100%|█████████████████████████████████████████████████████████████████████████████████████████████████████████████████████████████████████| 50/50 [00:14<00:00,  3.44it/s, episode=250, return=109.800]\n",
      "Iteration 5: 100%|█████████████████████████████████████████████████████████████████████████████████████████████████████████████████████████████████████| 50/50 [00:11<00:00,  4.17it/s, episode=300, return=169.200]\n",
      "Iteration 6: 100%|█████████████████████████████████████████████████████████████████████████████████████████████████████████████████████████████████████| 50/50 [00:22<00:00,  2.21it/s, episode=350, return=700.300]\n",
      "Iteration 7: 100%|█████████████████████████████████████████████████████████████████████████████████████████████████████████████████████████████████████| 50/50 [01:35<00:00,  1.90s/it, episode=400, return=795.300]\n",
      "Iteration 8: 100%|████████████████████████████████████████████████████████████████████████████████████████████████████████████████████████████████████| 50/50 [01:27<00:00,  1.75s/it, episode=450, return=1873.900]\n",
      "Iteration 9: 100%|████████████████████████████████████████████████████████████████████████████████████████████████████████████████████████████████████| 50/50 [01:44<00:00,  2.09s/it, episode=500, return=1118.800]\n"
     ]
    }
   ],
   "source": [
    "return_list = []\n",
    "for i in range(10):\n",
    "    with tqdm(total=int(num_episodes / 10), desc='Iteration %d' % i) as pbar:\n",
    "        for i_episode in range(int(num_episodes / 10)):\n",
    "            episode_return = 0\n",
    "            state = env.reset()[0]\n",
    "            done = False\n",
    "            while not done:\n",
    "                action = agent.take_action(state)\n",
    "                next_state, reward, done, _, __ = env.step(action)\n",
    "                replay_buffer.add(state, action, reward, next_state, done)\n",
    "                state = next_state\n",
    "                episode_return += reward\n",
    "                # 当buffer数据的数量超过一定值后,才进行Q网络训练\n",
    "                if replay_buffer.size() > minimal_size:\n",
    "                    b_s, b_a, b_r, b_ns, b_d = replay_buffer.sample(batch_size)\n",
    "                    transition_dict = {\n",
    "                        'states': b_s,\n",
    "                        'actions': b_a,\n",
    "                        'next_states': b_ns,\n",
    "                        'rewards': b_r,\n",
    "                        'dones': b_d\n",
    "                    }\n",
    "                    agent.update(transition_dict)\n",
    "            return_list.append(episode_return)\n",
    "            if (i_episode + 1) % 10 == 0:\n",
    "                pbar.set_postfix({\n",
    "                    'episode':\n",
    "                    '%d' % (num_episodes / 10 * i + i_episode + 1),\n",
    "                    'return':\n",
    "                    '%.3f' % np.mean(return_list[-10:])\n",
    "                })\n",
    "            pbar.update(1)"
   ]
  },
  {
   "cell_type": "code",
   "execution_count": 58,
   "id": "9d3db6d3-e6c6-4592-ba60-1f6ba0e445d4",
   "metadata": {
    "execution": {
     "iopub.execute_input": "2024-01-08T08:24:26.931728Z",
     "iopub.status.busy": "2024-01-08T08:24:26.931113Z",
     "iopub.status.idle": "2024-01-08T08:24:27.270189Z",
     "shell.execute_reply": "2024-01-08T08:24:27.269459Z",
     "shell.execute_reply.started": "2024-01-08T08:24:26.931703Z"
    },
    "tags": []
   },
   "outputs": [
    {
     "data": {
      "image/png": "[encoded data removed]",
      "text/plain": [
       "<Figure size 640x480 with 1 Axes>"
      ]
     },
     "metadata": {},
     "output_type": "display_data"
    },
    {
     "data": {
      "image/png": "[encoded data removed]",
      "text/plain": [
       "<Figure size 640x480 with 1 Axes>"
      ]
     },
     "metadata": {},
     "output_type": "display_data"
    }
   ],
   "source": [
    "episodes_list = list(range(len(return_list)))\n",
    "plt.plot(episodes_list, return_list)\n",
    "plt.xlabel('Episodes')\n",
    "plt.ylabel('Returns')\n",
    "plt.title('DQN on {}'.format(env_name))\n",
    "plt.show()\n",
    "\n",
    "mv_return = rl_utils.moving_average(return_list, 9)\n",
    "plt.plot(episodes_list, mv_return)\n",
    "plt.xlabel('Episodes')\n",
    "plt.ylabel('Returns')\n",
    "plt.title('DQN on {}'.format(env_name))\n",
    "plt.show()"
   ]
  },
  {
   "cell_type": "code",
   "execution_count": null,
   "id": "e3c201c2-dee5-4568-9c2b-ba5259384025",
   "metadata": {},
   "outputs": [],
   "source": []
  },
  {
   "cell_type": "markdown",
   "id": "fb8112d3-7179-4e63-a094-125b23350d9d",
   "metadata": {
    "execution": {
     "iopub.execute_input": "2024-01-08T09:01:04.001362Z",
     "iopub.status.busy": "2024-01-08T09:01:04.000678Z",
     "iopub.status.idle": "2024-01-08T09:01:04.004789Z",
     "shell.execute_reply": "2024-01-08T09:01:04.003935Z",
     "shell.execute_reply.started": "2024-01-08T09:01:04.001338Z"
    },
    "tags": []
   },
   "source": [
    "# Double DQN"
   ]
  },
  {
   "cell_type": "code",
   "execution_count": 64,
   "id": "b57b2935-b029-4bf0-8b28-6f37d32fa9e6",
   "metadata": {
    "execution": {
     "iopub.execute_input": "2024-01-08T09:12:09.769223Z",
     "iopub.status.busy": "2024-01-08T09:12:09.768826Z",
     "iopub.status.idle": "2024-01-08T09:12:09.788434Z",
     "shell.execute_reply": "2024-01-08T09:12:09.787631Z",
     "shell.execute_reply.started": "2024-01-08T09:12:09.769194Z"
    },
    "tags": []
   },
   "outputs": [],
   "source": [
    "class DQN:\n",
    "    ''' DQN算法,包括Double DQN '''\n",
    "    def __init__(self,\n",
    "                 state_dim,\n",
    "                 hidden_dim,\n",
    "                 action_dim,\n",
    "                 learning_rate,\n",
    "                 gamma,\n",
    "                 epsilon,\n",
    "                 target_update,\n",
    "                 device,\n",
    "                 dqn_type='VanillaDQN'):\n",
    "        self.action_dim = action_dim\n",
    "        self.q_net = Qnet(state_dim, hidden_dim, self.action_dim).to(device)\n",
    "        self.target_q_net = Qnet(state_dim, hidden_dim,\n",
    "                                 self.action_dim).to(device)\n",
    "        self.optimizer = torch.optim.Adam(self.q_net.parameters(),\n",
    "                                          lr=learning_rate)\n",
    "        self.gamma = gamma\n",
    "        self.epsilon = epsilon\n",
    "        self.target_update = target_update\n",
    "        self.count = 0\n",
    "        self.dqn_type = dqn_type\n",
    "        self.device = device\n",
    "\n",
    "    def take_action(self, state):\n",
    "        if np.random.random() < self.epsilon:\n",
    "            action = np.random.randint(self.action_dim)\n",
    "        else:\n",
    "            state = torch.tensor([state], dtype=torch.float).to(self.device)\n",
    "            action = self.q_net(state).argmax().item()\n",
    "        return action\n",
    "    \n",
    "    def max_q_value(self, state):\n",
    "        state = torch.tensor([state], dtype=torch.float).to(self.device)\n",
    "        return self.q_net(state).max().item()\n",
    "\n",
    "    def update(self, transition_dict):\n",
    "        states = torch.tensor(transition_dict['states'],\n",
    "                              dtype=torch.float).to(self.device)\n",
    "        actions = torch.tensor(transition_dict['actions']).view(-1, 1).to(\n",
    "            self.device)\n",
    "        rewards = torch.tensor(transition_dict['rewards'],\n",
    "                               dtype=torch.float).view(-1, 1).to(self.device)\n",
    "        next_states = torch.tensor(transition_dict['next_states'],\n",
    "                                   dtype=torch.float).to(self.device)\n",
    "        dones = torch.tensor(transition_dict['dones'],\n",
    "                             dtype=torch.float).view(-1, 1).to(self.device)\n",
    "\n",
    "        q_values = self.q_net(states).gather(1, actions)  # Q值\n",
    "        \n",
    "        # 下个状态的最大Q值\n",
    "        if self.dqn_type == 'DoubleDQN': # DQN与Double DQN的区别\n",
    "            max_action = self.q_net(next_states).max(1)[1].view(-1, 1)\n",
    "            max_next_q_values = self.target_q_net(next_states).gather(1, max_action)\n",
    "        else: # DQN的情况\n",
    "            max_next_q_values = self.target_q_net(next_states).max(1)[0].view(-1, 1)\n",
    "        \n",
    "        q_targets = rewards + self.gamma * max_next_q_values * (1 - dones)  # TD误差目标\n",
    "        dqn_loss = torch.mean(F.mse_loss(q_values, q_targets))  # 均方误差损失函数\n",
    "        self.optimizer.zero_grad()  # PyTorch中默认梯度会累积,这里需要显式将梯度置为0\n",
    "        dqn_loss.backward()  # 反向传播更新参数\n",
    "        self.optimizer.step()\n",
    "\n",
    "        if self.count % self.target_update == 0:\n",
    "            self.target_q_net.load_state_dict(\n",
    "                self.q_net.state_dict())  # 更新目标网络\n",
    "        \n",
    "        self.count += 1"
   ]
  },
  {
   "cell_type": "code",
   "execution_count": null,
   "id": "04b0c4d0-8ee8-4390-ad87-4226b031a530",
   "metadata": {},
   "outputs": [],
   "source": []
  },
  {
   "cell_type": "code",
   "execution_count": 84,
   "id": "3cef2227-b806-4570-8778-c37dc3e94da5",
   "metadata": {
    "execution": {
     "iopub.execute_input": "2024-01-08T09:38:47.322610Z",
     "iopub.status.busy": "2024-01-08T09:38:47.322232Z",
     "iopub.status.idle": "2024-01-08T09:38:47.330483Z",
     "shell.execute_reply": "2024-01-08T09:38:47.329455Z",
     "shell.execute_reply.started": "2024-01-08T09:38:47.322584Z"
    },
    "tags": []
   },
   "outputs": [],
   "source": [
    "lr = 1e-2\n",
    "num_episodes = 200\n",
    "hidden_dim = 128\n",
    "gamma = 0.98\n",
    "epsilon = 0.01\n",
    "target_update = 50\n",
    "buffer_size = 5000\n",
    "minimal_size = 1000\n",
    "batch_size = 64\n",
    "device = torch.device(\"cuda\") if torch.cuda.is_available() else torch.device(\n",
    "    \"cpu\")\n",
    "\n",
    "env_name = 'Pendulum-v1'\n",
    "env = gym.make(env_name, g=9.81)\n",
    "state_dim = env.observation_space.shape[0]\n",
    "action_dim = 11  # 将连续动作分成11个离散动作\n",
    "\n",
    "\n",
    "def dis_to_con(discrete_action, env, action_dim):  # 离散动作转回连续的函数\n",
    "    action_lowbound = env.action_space.low[0]  # 连续动作的最小值\n",
    "    action_upbound = env.action_space.high[0]  # 连续动作的最大值\n",
    "    return action_lowbound + (discrete_action / (action_dim - 1)) * (action_upbound - action_lowbound)"
   ]
  },
  {
   "cell_type": "code",
   "execution_count": 87,
   "id": "f608ab79-7050-4d30-a567-7bea4d464a1f",
   "metadata": {
    "execution": {
     "iopub.execute_input": "2024-01-08T09:48:30.004290Z",
     "iopub.status.busy": "2024-01-08T09:48:30.003932Z",
     "iopub.status.idle": "2024-01-08T09:48:30.015340Z",
     "shell.execute_reply": "2024-01-08T09:48:30.014416Z",
     "shell.execute_reply.started": "2024-01-08T09:48:30.004264Z"
    },
    "tags": []
   },
   "outputs": [],
   "source": [
    "def train_DQN(agent, env, num_episodes, replay_buffer, minimal_size,\n",
    "              batch_size):\n",
    "    return_list = []\n",
    "    max_q_value_list = []\n",
    "    max_q_value = 0\n",
    "    episode_total_length = 200\n",
    "    \n",
    "    for i in range(10):\n",
    "        with tqdm(total=int(num_episodes / 10), desc='Iteration %d' % i) as pbar:\n",
    "            for i_episode in range(int(num_episodes / 10)):\n",
    "                episode_return = 0\n",
    "                state = env.reset()[0]\n",
    "                done = False\n",
    "                episode_curr_length = 0\n",
    "                \n",
    "                while not done:\n",
    "                    action = agent.take_action(state)\n",
    "                    max_q_value = agent.max_q_value(state) * 0.005 + max_q_value * 0.995  # 平滑处理\n",
    "                    max_q_value_list.append(max_q_value)  # 保存每个状态的最大Q值\n",
    "                    action_continuous = dis_to_con(action, env, agent.action_dim)\n",
    "                    next_state, reward, done, _, __ = env.step([action_continuous])\n",
    "                    replay_buffer.add(state, action, reward, next_state, done)\n",
    "                    state = next_state\n",
    "                    episode_return += reward\n",
    "                    \n",
    "                    if replay_buffer.size() > minimal_size:\n",
    "                        b_s, b_a, b_r, b_ns, b_d = replay_buffer.sample(batch_size)\n",
    "                        transition_dict = {\n",
    "                            'states': b_s,\n",
    "                            'actions': b_a,\n",
    "                            'next_states': b_ns,\n",
    "                            'rewards': b_r,\n",
    "                            'dones': b_d\n",
    "                        }\n",
    "                        agent.update(transition_dict)\n",
    "                    \n",
    "                    episode_curr_length += 1\n",
    "                    \n",
    "                    if episode_curr_length >= episode_total_length:\n",
    "                        break\n",
    "                \n",
    "                return_list.append(episode_return)\n",
    "                \n",
    "                if (i_episode + 1) % 10 == 0:\n",
    "                    pbar.set_postfix({\n",
    "                        'episode':\n",
    "                        '%d' % (num_episodes / 10 * i + i_episode + 1),\n",
    "                        'return':\n",
    "                        '%.3f' % np.mean(return_list[-10:])\n",
    "                    })\n",
    "                pbar.update(1)\n",
    "    \n",
    "    return return_list, max_q_value_list"
   ]
  },
  {
   "cell_type": "code",
   "execution_count": 88,
   "id": "44fb4972-8e80-4c53-bb67-dbf731db9a8f",
   "metadata": {
    "execution": {
     "iopub.execute_input": "2024-01-08T09:48:31.508571Z",
     "iopub.status.busy": "2024-01-08T09:48:31.507717Z",
     "iopub.status.idle": "2024-01-08T09:49:19.852620Z",
     "shell.execute_reply": "2024-01-08T09:49:19.851991Z",
     "shell.execute_reply.started": "2024-01-08T09:48:31.508546Z"
    },
    "tags": []
   },
   "outputs": [
    {
     "name": "stderr",
     "output_type": "stream",
     "text": [
      "Iteration 0: 100%|█████████████████████████████████████████████████████████████████████████████████████████████████████████████████████████████████████| 20/20 [00:03<00:00,  5.20it/s, episode=20, return=-959.941]\n",
      "Iteration 1: 100%|█████████████████████████████████████████████████████████████████████████████████████████████████████████████████████████████████████| 20/20 [00:04<00:00,  4.18it/s, episode=40, return=-203.860]\n",
      "Iteration 2: 100%|█████████████████████████████████████████████████████████████████████████████████████████████████████████████████████████████████████| 20/20 [00:04<00:00,  4.16it/s, episode=60, return=-294.925]\n",
      "Iteration 3: 100%|█████████████████████████████████████████████████████████████████████████████████████████████████████████████████████████████████████| 20/20 [00:04<00:00,  4.05it/s, episode=80, return=-200.384]\n",
      "Iteration 4: 100%|████████████████████████████████████████████████████████████████████████████████████████████████████████████████████████████████████| 20/20 [00:04<00:00,  4.10it/s, episode=100, return=-339.485]\n",
      "Iteration 5: 100%|████████████████████████████████████████████████████████████████████████████████████████████████████████████████████████████████████| 20/20 [00:04<00:00,  4.15it/s, episode=120, return=-206.810]\n",
      "Iteration 6: 100%|████████████████████████████████████████████████████████████████████████████████████████████████████████████████████████████████████| 20/20 [00:04<00:00,  4.11it/s, episode=140, return=-201.671]\n",
      "Iteration 7: 100%|████████████████████████████████████████████████████████████████████████████████████████████████████████████████████████████████████| 20/20 [00:05<00:00,  3.96it/s, episode=160, return=-316.471]\n",
      "Iteration 8: 100%|████████████████████████████████████████████████████████████████████████████████████████████████████████████████████████████████████| 20/20 [00:04<00:00,  4.01it/s, episode=180, return=-313.213]\n",
      "Iteration 9: 100%|████████████████████████████████████████████████████████████████████████████████████████████████████████████████████████████████████| 20/20 [00:04<00:00,  4.01it/s, episode=200, return=-253.360]\n"
     ]
    },
    {
     "data": {
      "image/png": "[encoded data removed]",
      "text/plain": [
       "<Figure size 640x480 with 1 Axes>"
      ]
     },
     "metadata": {},
     "output_type": "display_data"
    },
    {
     "data": {
      "image/png": "[encoded data removed]",
      "text/plain": [
       "<Figure size 640x480 with 1 Axes>"
      ]
     },
     "metadata": {},
     "output_type": "display_data"
    }
   ],
   "source": [
    "random.seed(0)\n",
    "np.random.seed(0)\n",
    "# env.seed(0)\n",
    "torch.manual_seed(0)\n",
    "replay_buffer = rl_utils.ReplayBuffer(buffer_size)\n",
    "agent = DQN(state_dim, hidden_dim, action_dim, lr, gamma, epsilon,\n",
    "            target_update, device)\n",
    "return_list, max_q_value_list = train_DQN(agent, env, num_episodes,\n",
    "                                          replay_buffer, minimal_size,\n",
    "                                          batch_size)\n",
    "\n",
    "episodes_list = list(range(len(return_list)))\n",
    "mv_return = rl_utils.moving_average(return_list, 5)\n",
    "plt.plot(episodes_list, mv_return)\n",
    "plt.xlabel('Episodes')\n",
    "plt.ylabel('Returns')\n",
    "plt.title('DQN on {}'.format(env_name))\n",
    "plt.show()\n",
    "\n",
    "frames_list = list(range(len(max_q_value_list)))\n",
    "plt.plot(frames_list, max_q_value_list)\n",
    "plt.axhline(0, c='orange', ls='--')\n",
    "plt.axhline(10, c='red', ls='--')\n",
    "plt.xlabel('Frames')\n",
    "plt.ylabel('Q value')\n",
    "plt.title('DQN on {}'.format(env_name))\n",
    "plt.show()"
   ]
  },
  {
   "cell_type": "code",
   "execution_count": 89,
   "id": "8d1b7194-e2e6-4021-99da-c493353d4c71",
   "metadata": {
    "execution": {
     "iopub.execute_input": "2024-01-08T09:50:05.048091Z",
     "iopub.status.busy": "2024-01-08T09:50:05.047715Z",
     "iopub.status.idle": "2024-01-08T09:50:55.417070Z",
     "shell.execute_reply": "2024-01-08T09:50:55.416457Z",
     "shell.execute_reply.started": "2024-01-08T09:50:05.048064Z"
    },
    "tags": []
   },
   "outputs": [
    {
     "name": "stderr",
     "output_type": "stream",
     "text": [
      "Iteration 0: 100%|████████████████████████████████████████████████████████████████████████████████████████████████████████████████████████████████████| 20/20 [00:04<00:00,  4.98it/s, episode=20, return=-1083.043]\n",
      "Iteration 1: 100%|█████████████████████████████████████████████████████████████████████████████████████████████████████████████████████████████████████| 20/20 [00:05<00:00,  3.81it/s, episode=40, return=-264.206]\n",
      "Iteration 2: 100%|█████████████████████████████████████████████████████████████████████████████████████████████████████████████████████████████████████| 20/20 [00:05<00:00,  3.98it/s, episode=60, return=-328.973]\n",
      "Iteration 3: 100%|█████████████████████████████████████████████████████████████████████████████████████████████████████████████████████████████████████| 20/20 [00:05<00:00,  3.99it/s, episode=80, return=-321.118]\n",
      "Iteration 4: 100%|████████████████████████████████████████████████████████████████████████████████████████████████████████████████████████████████████| 20/20 [00:05<00:00,  3.98it/s, episode=100, return=-207.797]\n",
      "Iteration 5: 100%|████████████████████████████████████████████████████████████████████████████████████████████████████████████████████████████████████| 20/20 [00:05<00:00,  3.97it/s, episode=120, return=-503.908]\n",
      "Iteration 6: 100%|████████████████████████████████████████████████████████████████████████████████████████████████████████████████████████████████████| 20/20 [00:05<00:00,  3.98it/s, episode=140, return=-307.152]\n",
      "Iteration 7: 100%|████████████████████████████████████████████████████████████████████████████████████████████████████████████████████████████████████| 20/20 [00:05<00:00,  3.95it/s, episode=160, return=-185.113]\n",
      "Iteration 8: 100%|████████████████████████████████████████████████████████████████████████████████████████████████████████████████████████████████████| 20/20 [00:05<00:00,  3.70it/s, episode=180, return=-189.861]\n",
      "Iteration 9: 100%|████████████████████████████████████████████████████████████████████████████████████████████████████████████████████████████████████| 20/20 [00:05<00:00,  3.92it/s, episode=200, return=-152.709]\n"
     ]
    },
    {
     "data": {
      "image/png": "[encoded data removed]",
      "text/plain": [
       "<Figure size 640x480 with 1 Axes>"
      ]
     },
     "metadata": {},
     "output_type": "display_data"
    },
    {
     "data": {
      "image/png": "[encoded data removed]",
      "text/plain": [
       "<Figure size 640x480 with 1 Axes>"
      ]
     },
     "metadata": {},
     "output_type": "display_data"
    }
   ],
   "source": [
    "random.seed(0)\n",
    "np.random.seed(0)\n",
    "# env.seed(0)\n",
    "torch.manual_seed(0)\n",
    "replay_buffer = rl_utils.ReplayBuffer(buffer_size)\n",
    "agent = DQN(state_dim, hidden_dim, action_dim, lr, gamma, epsilon,\n",
    "            target_update, device, 'DoubleDQN')\n",
    "return_list, max_q_value_list = train_DQN(agent, env, num_episodes,\n",
    "                                          replay_buffer, minimal_size,\n",
    "                                          batch_size)\n",
    "\n",
    "episodes_list = list(range(len(return_list)))\n",
    "mv_return = rl_utils.moving_average(return_list, 5)\n",
    "plt.plot(episodes_list, mv_return)\n",
    "plt.xlabel('Episodes')\n",
    "plt.ylabel('Returns')\n",
    "plt.title('Double DQN on {}'.format(env_name))\n",
    "plt.show()\n",
    "\n",
    "frames_list = list(range(len(max_q_value_list)))\n",
    "plt.plot(frames_list, max_q_value_list)\n",
    "plt.axhline(0, c='orange', ls='--')\n",
    "plt.axhline(10, c='red', ls='--')\n",
    "plt.xlabel('Frames')\n",
    "plt.ylabel('Q value')\n",
    "plt.title('Double DQN on {}'.format(env_name))\n",
    "plt.show()"
   ]
  },
  {
   "cell_type": "code",
   "execution_count": null,
   "id": "9ceae405-3684-4abe-8627-288b83fd4fd5",
   "metadata": {},
   "outputs": [],
   "source": []
  },
  {
   "cell_type": "code",
   "execution_count": null,
   "id": "ef5cddf4-de22-405f-8e21-353b57584fbd",
   "metadata": {},
   "outputs": [],
   "source": []
  },
  {
   "cell_type": "markdown",
   "id": "cec06b53-f43d-4214-992e-eaa52838afba",
   "metadata": {},
   "source": [
    "# Dueling DQN"
   ]
  },
  {
   "cell_type": "code",
   "execution_count": null,
   "id": "8944eb15-102d-4d2b-9c4e-e102db0e10b4",
   "metadata": {},
   "outputs": [],
   "source": []
  },
  {
   "cell_type": "code",
   "execution_count": null,
   "id": "3fb76855-b42c-4c28-b4d1-e25c24665844",
   "metadata": {},
   "outputs": [],
   "source": []
  },
  {
   "cell_type": "code",
   "execution_count": null,
   "id": "332a997e-76f3-4358-bc25-be7d34d83c8b",
   "metadata": {},
   "outputs": [],
   "source": []
  },
  {
   "cell_type": "code",
   "execution_count": null,
   "id": "7792c50f-8962-41b9-b807-ce1d4a7728db",
   "metadata": {},
   "outputs": [],
   "source": []
  },
  {
   "cell_type": "code",
   "execution_count": null,
   "id": "b86753bf-af51-4934-94fd-819c1549b167",
   "metadata": {},
   "outputs": [],
   "source": []
  },
  {
   "cell_type": "code",
   "execution_count": null,
   "id": "40fae681-0ada-4476-a89f-b95a9e4569db",
   "metadata": {},
   "outputs": [],
   "source": []
  },
  {
   "cell_type": "code",
   "execution_count": null,
   "id": "e6abc082-5a0b-46c2-83ca-e30713cb5368",
   "metadata": {},
   "outputs": [],
   "source": []
  },
  {
   "cell_type": "code",
   "execution_count": null,
   "id": "2b5f3174-1567-4ed7-85ab-5f0edc50fa5e",
   "metadata": {},
   "outputs": [],
   "source": []
  },
  {
   "cell_type": "code",
   "execution_count": null,
   "id": "34ea5365-7172-4d93-9368-052a26b3e603",
   "metadata": {},
   "outputs": [],
   "source": []
  },
  {
   "cell_type": "code",
   "execution_count": null,
   "id": "40b25722-bda9-4b81-bf1d-a35198cf38fd",
   "metadata": {},
   "outputs": [],
   "source": []
  }
 ],
 "metadata": {
  "kernelspec": {
   "display_name": "Python 3 (ipykernel)",
   "language": "python",
   "name": "python3"
  },
  "language_info": {
   "codemirror_mode": {
    "name": "ipython",
    "version": 3
   },
   "file_extension": ".py",
   "mimetype": "text/x-python",
   "name": "python",
   "nbconvert_exporter": "python",
   "pygments_lexer": "ipython3",
   "version": "3.8.9"
  }
 },
 "nbformat": 4,
 "nbformat_minor": 5
}
